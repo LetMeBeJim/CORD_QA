{
 "cells": [
  {
   "cell_type": "code",
   "execution_count": 33,
   "metadata": {},
   "outputs": [
    {
     "name": "stderr",
     "output_type": "stream",
     "text": [
      "Some weights of DistilBertForQuestionAnswering were not initialized from the model checkpoint at distilbert/distilbert-base-uncased and are newly initialized: ['qa_outputs.bias', 'qa_outputs.weight']\n",
      "You should probably TRAIN this model on a down-stream task to be able to use it for predictions and inference.\n"
     ]
    }
   ],
   "source": [
    "from transformers import AutoTokenizer, AutoModelForQuestionAnswering, TrainingArguments, Trainer\n",
    "import torch\n",
    "\n",
    "tokenizer_base = AutoTokenizer.from_pretrained(\"distilbert/distilbert-base-uncased\")\n",
    "model_base = AutoModelForQuestionAnswering.from_pretrained(\"distilbert/distilbert-base-uncased\")"
   ]
  },
  {
   "cell_type": "code",
   "execution_count": 27,
   "metadata": {},
   "outputs": [
    {
     "name": "stderr",
     "output_type": "stream",
     "text": [
      "Some weights of BertForQuestionAnswering were not initialized from the model checkpoint at emilyalsentzer/Bio_ClinicalBERT and are newly initialized: ['qa_outputs.bias', 'qa_outputs.weight']\n",
      "You should probably TRAIN this model on a down-stream task to be able to use it for predictions and inference.\n"
     ]
    },
    {
     "data": {
      "text/plain": [
       "BertForQuestionAnswering(\n",
       "  (bert): BertModel(\n",
       "    (embeddings): BertEmbeddings(\n",
       "      (word_embeddings): Embedding(28996, 768, padding_idx=0)\n",
       "      (position_embeddings): Embedding(512, 768)\n",
       "      (token_type_embeddings): Embedding(2, 768)\n",
       "      (LayerNorm): LayerNorm((768,), eps=1e-12, elementwise_affine=True)\n",
       "      (dropout): Dropout(p=0.1, inplace=False)\n",
       "    )\n",
       "    (encoder): BertEncoder(\n",
       "      (layer): ModuleList(\n",
       "        (0-11): 12 x BertLayer(\n",
       "          (attention): BertAttention(\n",
       "            (self): BertSelfAttention(\n",
       "              (query): Linear(in_features=768, out_features=768, bias=True)\n",
       "              (key): Linear(in_features=768, out_features=768, bias=True)\n",
       "              (value): Linear(in_features=768, out_features=768, bias=True)\n",
       "              (dropout): Dropout(p=0.1, inplace=False)\n",
       "            )\n",
       "            (output): BertSelfOutput(\n",
       "              (dense): Linear(in_features=768, out_features=768, bias=True)\n",
       "              (LayerNorm): LayerNorm((768,), eps=1e-12, elementwise_affine=True)\n",
       "              (dropout): Dropout(p=0.1, inplace=False)\n",
       "            )\n",
       "          )\n",
       "          (intermediate): BertIntermediate(\n",
       "            (dense): Linear(in_features=768, out_features=3072, bias=True)\n",
       "            (intermediate_act_fn): GELUActivation()\n",
       "          )\n",
       "          (output): BertOutput(\n",
       "            (dense): Linear(in_features=3072, out_features=768, bias=True)\n",
       "            (LayerNorm): LayerNorm((768,), eps=1e-12, elementwise_affine=True)\n",
       "            (dropout): Dropout(p=0.1, inplace=False)\n",
       "          )\n",
       "        )\n",
       "      )\n",
       "    )\n",
       "  )\n",
       "  (qa_outputs): Linear(in_features=768, out_features=2, bias=True)\n",
       ")"
      ]
     },
     "execution_count": 27,
     "metadata": {},
     "output_type": "execute_result"
    }
   ],
   "source": [
    "from transformers import AutoTokenizer, AutoModelForQuestionAnswering, TrainingArguments, Trainer\n",
    "import torch\n",
    "\n",
    "tokenizer = AutoTokenizer.from_pretrained(\"emilyalsentzer/Bio_ClinicalBERT\")\n",
    "model = AutoModelForQuestionAnswering.from_pretrained(\"emilyalsentzer/Bio_ClinicalBERT\")\n",
    "model.load_state_dict(torch.load('../model/model_weights_7.pth'))\n",
    "model.eval()"
   ]
  },
  {
   "cell_type": "code",
   "execution_count": 2,
   "metadata": {},
   "outputs": [],
   "source": [
    "# model.save_pretrained('../model/qa_model_final')"
   ]
  },
  {
   "cell_type": "code",
   "execution_count": 3,
   "metadata": {},
   "outputs": [
    {
     "data": {
      "text/plain": [
       "('../model/qa_tokenizer_final\\\\tokenizer_config.json',\n",
       " '../model/qa_tokenizer_final\\\\special_tokens_map.json',\n",
       " '../model/qa_tokenizer_final\\\\vocab.txt',\n",
       " '../model/qa_tokenizer_final\\\\added_tokens.json',\n",
       " '../model/qa_tokenizer_final\\\\tokenizer.json')"
      ]
     },
     "execution_count": 3,
     "metadata": {},
     "output_type": "execute_result"
    }
   ],
   "source": [
    "# tokenizer.save_pretrained('../model/qa_tokenizer_final')"
   ]
  },
  {
   "cell_type": "code",
   "execution_count": 3,
   "metadata": {},
   "outputs": [],
   "source": [
    "question = \"Who announced the Novel Coronavirus SARS-CoV-2 COVID-19 as a pandemic outbreak?\"\n",
    "context = \"The World Health Organization announced the Novel Coronavirus SARS-CoV-2 COVID-19 as a pandemic outbreak on the 11th of March, 20201. Since the WHO has warned about the beginning of the pandemic in March, basic protective equipment and safety protocols have not been always available in many medical institutions. healthcare workers are experiencing unprecedented pressure from stressors including but not limited to enormous workload, virus exposure, and inadequate PPE. The study followed a group of workers who were continuously and exclusively engaged in the treatment of patients with COVID-19 in Central Italy. The main stressors were prolonged periods of work in isolation, high workloads, compassion fatigue, and a lack of time for physical activity, meditation, or relaxation. Most of the workers who had contracted the infection were completely asymptomatic. SARS-CoV-2 machine learning smartphone application is vital in most outbreaks. Users learn how to perform valid tests through demonstration videos or blood sampling schematics included in the app. Use of the app by health authorities using fully anonymized location data could produce live disease maps. RDTs detected both total antibodies or IgG and IgM in blood, serum, or plasma.\""
   ]
  },
  {
   "cell_type": "code",
   "execution_count": 3,
   "metadata": {},
   "outputs": [],
   "source": [
    "import pandas as pd\n",
    "\n",
    "df = pd.read_csv('../clean.csv')\n",
    "df_papers = df.groupby('paper_id')['text'].sum().reset_index()"
   ]
  },
  {
   "cell_type": "code",
   "execution_count": 22,
   "metadata": {},
   "outputs": [
    {
     "data": {
      "text/plain": [
       "'according to current live statistics at the time of editing this letter, Russia has been the third country in the world to be affected by COVID-19 with both new cases and death rates rising. it remains in a position of advantage due to the later onset of the viral spread within the country since the worldwide disease outbreak.the first step in fighting the epidemic was nationwide lock down on March 30 th , 2020.most of the multidisciplinary hospitals have been repurposed as dedicated COVID-19 centres, so the surgeons started working as infectious disease specialists. such a reallocation of health care capacity results in the effective management of this epidemiological problem 1 . the staff has undergone on-line 36-hour training course to become qualified in coronavirus infection treatment.the surgeons of COVID-19 dedicated hospitals do rarely practice surgery. when ICU patients need mechanical ventilation, percutaneous tracheostomy under endoscopic control is mostly performed, as it decreases the aerosol formation, viral load on staff and complications, associated with an endotracheal tube in comparison with surgical tracheostomy 2 . however, it is still associated with the risk of aerosol formation, so different approaches should be considered for a long-time perspective 3 .the majority of the studies dedicated to colorectal diseases are temporarily paused. the teaching and training are mostly translated via online platforms, which has excluded the opportunity to get clinical experience in surgery 4 .the approach to patient routing has changed significantly. if one is not diagnosed with COVID-19 CT scan and laboratory testing are provided immediately. the patients should be admitted to the surgical department, where treatment is provided only to those COVID-19 negative.the patient isolated for more than 2 weeks and COVID-19 negative as a result of 2 subsequent tests is admitted to the surgical department with an option to readmission to the infectious department and can be treated by surgical staff, which does not work with COVID-19 positive patients.the patient, diagnosed with coronavirus infection and treated at home is admitted to COVID-19 dedicated multidisciplinary hospital, where surgical care is provided. those treated in infectious diseases hospital or COVID-19 dedicated centre are managed by the surgical team present.surgery has become highly elective, being mostly available for high-risk patients with emergencies, malignancies, cardiovascular pathologies or infections. preoperative testing in surgical patients with respiratory symptoms and history of travelling or contacting with COVID-19 positive people and postoperative recovery in the operating unit seem to be highly effective measures 5 . a lot of rearrangements are performed locally regarding personal protective equipment, the organization of scrubbing, donning and doffing, and dedicated changing areas. moreover, observational departments are organized in surgical hospitals for patient allocation before coronavirus infection status is defined 6 .surgery for benign disorders, precancerous lesions, and reconstructive procedures are currently postponed. regarding colorectal cancer, surgical treatment may be postponed, if it is a non-obstructing disease 7 .laparoscopic surgery and diathermy are limited as well. the importance of special operating theatre for COVID-19 patients with negative pressure ventilation, unidirectional laminar flow, as well as the use of smoke evacuation systems during surgery are taken into account 8 .such an electiveness of surgery is concerning, as it might cause a worldwide healthcare catastrophe in the post-pandemic era 5 . more efforts should be taken to expand the amount and types of surgical procedures performed.due to the early preventive and corrective actions we have already reached the plateau in new cases curve, counting for up to 8 984 cases identified at the time of writing this paper June 7 th , 2020, with a mortality rate of 15075. these statistical outcomes are resulted by a 68-day lockdown, admission regime, and healthcare rearrangement. thus, the multistep restriction lifting has already started to consistently recover in both social and economic aspects.'"
      ]
     },
     "execution_count": 22,
     "metadata": {},
     "output_type": "execute_result"
    }
   ],
   "source": [
    "df_papers[\"text\"][0]"
   ]
  },
  {
   "cell_type": "code",
   "execution_count": 30,
   "metadata": {},
   "outputs": [],
   "source": [
    "context = df_papers[\"text\"][0]\n",
    "question = \"What is the surgery that might cause a worldwide healthcare catastrophe in the post-pandemic era 5?\""
   ]
  },
  {
   "cell_type": "code",
   "execution_count": 28,
   "metadata": {},
   "outputs": [
    {
     "data": {
      "text/plain": [
       "'WHO has warned about the beginning of the pandemic'"
      ]
     },
     "execution_count": 28,
     "metadata": {},
     "output_type": "execute_result"
    }
   ],
   "source": [
    "from transformers import pipeline\n",
    "\n",
    "question_answerer = pipeline(\"question-answering\", model=model, tokenizer=tokenizer)\n",
    "result = question_answerer(question=question, context=context)\n",
    "result['answer']"
   ]
  },
  {
   "cell_type": "code",
   "execution_count": 29,
   "metadata": {},
   "outputs": [
    {
     "data": {
      "text/html": [
       "<div>\n",
       "<style scoped>\n",
       "    .dataframe tbody tr th:only-of-type {\n",
       "        vertical-align: middle;\n",
       "    }\n",
       "\n",
       "    .dataframe tbody tr th {\n",
       "        vertical-align: top;\n",
       "    }\n",
       "\n",
       "    .dataframe thead th {\n",
       "        text-align: right;\n",
       "    }\n",
       "</style>\n",
       "<table border=\"1\" class=\"dataframe\">\n",
       "  <thead>\n",
       "    <tr style=\"text-align: right;\">\n",
       "      <th></th>\n",
       "      <th>question</th>\n",
       "      <th>context</th>\n",
       "      <th>correct</th>\n",
       "      <th>baseline_output</th>\n",
       "      <th>model_output</th>\n",
       "    </tr>\n",
       "  </thead>\n",
       "  <tbody>\n",
       "    <tr>\n",
       "      <th>0</th>\n",
       "      <td>Who announced the Novel Coronavirus SARS-CoV-2...</td>\n",
       "      <td>The World Health Organization announced the No...</td>\n",
       "      <td>The World Health Organization</td>\n",
       "      <td>about the beginning of the pandemic in March, ...</td>\n",
       "      <td>WHO has warned about the beginning of the pand...</td>\n",
       "    </tr>\n",
       "    <tr>\n",
       "      <th>1</th>\n",
       "      <td>What are not always available in many medical ...</td>\n",
       "      <td>The World Health Organization announced the No...</td>\n",
       "      <td>basic protective equipment</td>\n",
       "      <td>about the beginning of the pandemic in March, ...</td>\n",
       "      <td>announced the Novel Coronavirus SARS-CoV-2 COVID</td>\n",
       "    </tr>\n",
       "    <tr>\n",
       "      <th>2</th>\n",
       "      <td>What are the main stressors?</td>\n",
       "      <td>The World Health Organization announced the No...</td>\n",
       "      <td>prolonged periods of work in isolation, high w...</td>\n",
       "      <td>in the app. Use of the app by</td>\n",
       "      <td>Since the WHO has warned about the beginning o...</td>\n",
       "    </tr>\n",
       "    <tr>\n",
       "      <th>3</th>\n",
       "      <td>What is the most common cause of death in dogs?</td>\n",
       "      <td>Cancer is frequent in dogs and is by far their...</td>\n",
       "      <td>Cancer</td>\n",
       "      <td>coming years. The introduction of</td>\n",
       "      <td>in advance</td>\n",
       "    </tr>\n",
       "    <tr>\n",
       "      <th>4</th>\n",
       "      <td>How many dogs are newly diagnosed with cancer ...</td>\n",
       "      <td>Cancer is frequent in dogs and is by far their...</td>\n",
       "      <td>46 million</td>\n",
       "      <td>coming years. The introduction of</td>\n",
       "      <td>in advance</td>\n",
       "    </tr>\n",
       "  </tbody>\n",
       "</table>\n",
       "</div>"
      ],
      "text/plain": [
       "                                            question  \\\n",
       "0  Who announced the Novel Coronavirus SARS-CoV-2...   \n",
       "1  What are not always available in many medical ...   \n",
       "2                       What are the main stressors?   \n",
       "3    What is the most common cause of death in dogs?   \n",
       "4  How many dogs are newly diagnosed with cancer ...   \n",
       "\n",
       "                                             context  \\\n",
       "0  The World Health Organization announced the No...   \n",
       "1  The World Health Organization announced the No...   \n",
       "2  The World Health Organization announced the No...   \n",
       "3  Cancer is frequent in dogs and is by far their...   \n",
       "4  Cancer is frequent in dogs and is by far their...   \n",
       "\n",
       "                                             correct  \\\n",
       "0                      The World Health Organization   \n",
       "1                         basic protective equipment   \n",
       "2  prolonged periods of work in isolation, high w...   \n",
       "3                                             Cancer   \n",
       "4                                         46 million   \n",
       "\n",
       "                                     baseline_output  \\\n",
       "0  about the beginning of the pandemic in March, ...   \n",
       "1  about the beginning of the pandemic in March, ...   \n",
       "2                      in the app. Use of the app by   \n",
       "3                  coming years. The introduction of   \n",
       "4                  coming years. The introduction of   \n",
       "\n",
       "                                        model_output  \n",
       "0  WHO has warned about the beginning of the pand...  \n",
       "1   announced the Novel Coronavirus SARS-CoV-2 COVID  \n",
       "2  Since the WHO has warned about the beginning o...  \n",
       "3                                         in advance  \n",
       "4                                         in advance  "
      ]
     },
     "execution_count": 29,
     "metadata": {},
     "output_type": "execute_result"
    }
   ],
   "source": [
    "import pandas as pd\n",
    "questions_df = pd.read_csv('../comparison.csv')\n",
    "def inference(context, question):\n",
    "    result = question_answerer(question=question, context=context)\n",
    "    return result['answer']\n",
    "\n",
    "questions_df['model_output'] = questions_df.apply(lambda row: inference(row['context'], row['question']), axis=1)\n",
    "questions_df"
   ]
  },
  {
   "cell_type": "code",
   "execution_count": 30,
   "metadata": {},
   "outputs": [
    {
     "name": "stderr",
     "output_type": "stream",
     "text": [
      "Some weights of DistilBertForQuestionAnswering were not initialized from the model checkpoint at distilbert/distilbert-base-uncased and are newly initialized: ['qa_outputs.bias', 'qa_outputs.weight']\n",
      "You should probably TRAIN this model on a down-stream task to be able to use it for predictions and inference.\n"
     ]
    }
   ],
   "source": [
    "from transformers import AutoTokenizer, AutoModelForQuestionAnswering, TrainingArguments, Trainer\n",
    "import torch\n",
    "\n",
    "model_base = AutoModelForQuestionAnswering.from_pretrained(\"distilbert/distilbert-base-uncased\")"
   ]
  },
  {
   "cell_type": "code",
   "execution_count": 34,
   "metadata": {},
   "outputs": [
    {
     "data": {
      "text/html": [
       "<div>\n",
       "<style scoped>\n",
       "    .dataframe tbody tr th:only-of-type {\n",
       "        vertical-align: middle;\n",
       "    }\n",
       "\n",
       "    .dataframe tbody tr th {\n",
       "        vertical-align: top;\n",
       "    }\n",
       "\n",
       "    .dataframe thead th {\n",
       "        text-align: right;\n",
       "    }\n",
       "</style>\n",
       "<table border=\"1\" class=\"dataframe\">\n",
       "  <thead>\n",
       "    <tr style=\"text-align: right;\">\n",
       "      <th></th>\n",
       "      <th>question</th>\n",
       "      <th>context</th>\n",
       "      <th>correct</th>\n",
       "      <th>baseline_output</th>\n",
       "      <th>model_output</th>\n",
       "    </tr>\n",
       "  </thead>\n",
       "  <tbody>\n",
       "    <tr>\n",
       "      <th>0</th>\n",
       "      <td>Who announced the Novel Coronavirus SARS-CoV-2...</td>\n",
       "      <td>The World Health Organization announced the No...</td>\n",
       "      <td>The World Health Organization</td>\n",
       "      <td>COVID-19 in Central Italy. The main stressors</td>\n",
       "      <td>World Health</td>\n",
       "    </tr>\n",
       "    <tr>\n",
       "      <th>1</th>\n",
       "      <td>What are not always available in many medical ...</td>\n",
       "      <td>The World Health Organization announced the No...</td>\n",
       "      <td>basic protective equipment</td>\n",
       "      <td>COVID-19 in Central Italy. The main stressors</td>\n",
       "      <td>medical institutions</td>\n",
       "    </tr>\n",
       "    <tr>\n",
       "      <th>2</th>\n",
       "      <td>What are the main stressors?</td>\n",
       "      <td>The World Health Organization announced the No...</td>\n",
       "      <td>prolonged periods of work in isolation, high w...</td>\n",
       "      <td>COVID-19 as a pandemic</td>\n",
       "      <td>main stressors</td>\n",
       "    </tr>\n",
       "    <tr>\n",
       "      <th>3</th>\n",
       "      <td>What is the most common cause of death in dogs?</td>\n",
       "      <td>Cancer is frequent in dogs and is by far their...</td>\n",
       "      <td>Cancer</td>\n",
       "      <td>pandemic. college</td>\n",
       "      <td>Cancer</td>\n",
       "    </tr>\n",
       "    <tr>\n",
       "      <th>4</th>\n",
       "      <td>How many dogs are newly diagnosed with cancer ...</td>\n",
       "      <td>Cancer is frequent in dogs and is by far their...</td>\n",
       "      <td>46 million</td>\n",
       "      <td>pandemic. college</td>\n",
       "      <td>46 million dogs</td>\n",
       "    </tr>\n",
       "  </tbody>\n",
       "</table>\n",
       "</div>"
      ],
      "text/plain": [
       "                                            question  \\\n",
       "0  Who announced the Novel Coronavirus SARS-CoV-2...   \n",
       "1  What are not always available in many medical ...   \n",
       "2                       What are the main stressors?   \n",
       "3    What is the most common cause of death in dogs?   \n",
       "4  How many dogs are newly diagnosed with cancer ...   \n",
       "\n",
       "                                             context  \\\n",
       "0  The World Health Organization announced the No...   \n",
       "1  The World Health Organization announced the No...   \n",
       "2  The World Health Organization announced the No...   \n",
       "3  Cancer is frequent in dogs and is by far their...   \n",
       "4  Cancer is frequent in dogs and is by far their...   \n",
       "\n",
       "                                             correct  \\\n",
       "0                      The World Health Organization   \n",
       "1                         basic protective equipment   \n",
       "2  prolonged periods of work in isolation, high w...   \n",
       "3                                             Cancer   \n",
       "4                                         46 million   \n",
       "\n",
       "                                 baseline_output          model_output  \n",
       "0  COVID-19 in Central Italy. The main stressors          World Health  \n",
       "1  COVID-19 in Central Italy. The main stressors  medical institutions  \n",
       "2                         COVID-19 as a pandemic        main stressors  \n",
       "3                              pandemic. college                Cancer  \n",
       "4                              pandemic. college       46 million dogs  "
      ]
     },
     "execution_count": 34,
     "metadata": {},
     "output_type": "execute_result"
    }
   ],
   "source": [
    "import pandas as pd\n",
    "questions_df = pd.read_csv('../comparison.csv')\n",
    "def inference(context, question):\n",
    "    question_answerer = pipeline(\"question-answering\", model=model_base, tokenizer=tokenizer_base)\n",
    "    result = question_answerer(question=question, context=context)\n",
    "    return result['answer']\n",
    "\n",
    "questions_df['baseline_output'] = questions_df.apply(lambda row: inference(row['context'], row['question']), axis=1)\n",
    "questions_df"
   ]
  },
  {
   "cell_type": "code",
   "execution_count": 35,
   "metadata": {},
   "outputs": [],
   "source": [
    "questions_df.to_csv('../comparison.csv', index=False)"
   ]
  }
 ],
 "metadata": {
  "kernelspec": {
   "display_name": "Python 3",
   "language": "python",
   "name": "python3"
  },
  "language_info": {
   "codemirror_mode": {
    "name": "ipython",
    "version": 3
   },
   "file_extension": ".py",
   "mimetype": "text/x-python",
   "name": "python",
   "nbconvert_exporter": "python",
   "pygments_lexer": "ipython3",
   "version": "3.9.11"
  }
 },
 "nbformat": 4,
 "nbformat_minor": 2
}
