{
 "cells": [
  {
   "cell_type": "code",
   "execution_count": 1,
   "metadata": {},
   "outputs": [
    {
     "name": "stderr",
     "output_type": "stream",
     "text": [
      "Some weights of DistilBertForQuestionAnswering were not initialized from the model checkpoint at distilbert/distilbert-base-uncased and are newly initialized: ['qa_outputs.bias', 'qa_outputs.weight']\n",
      "You should probably TRAIN this model on a down-stream task to be able to use it for predictions and inference.\n"
     ]
    }
   ],
   "source": [
    "from transformers import AutoTokenizer, AutoModelForQuestionAnswering, TrainingArguments, Trainer\n",
    "\n",
    "tokenizer = AutoTokenizer.from_pretrained(\"emilyalsentzer/Bio_ClinicalBERT\")\n",
    "\n",
    "model = AutoModelForQuestionAnswering.from_pretrained(\"emilyalsentzer/Bio_ClinicalBERT\")"
   ]
  },
  {
   "cell_type": "code",
   "execution_count": 2,
   "metadata": {},
   "outputs": [],
   "source": [
    "import pandas as pd\n",
    "df = pd.read_csv('../question_answer_pair_3.csv')\n",
    "df_context = pd.read_csv('../abstractive_summaries.csv')"
   ]
  },
  {
   "cell_type": "code",
   "execution_count": null,
   "metadata": {},
   "outputs": [
    {
     "data": {
      "text/html": [
       "<div>\n",
       "<style scoped>\n",
       "    .dataframe tbody tr th:only-of-type {\n",
       "        vertical-align: middle;\n",
       "    }\n",
       "\n",
       "    .dataframe tbody tr th {\n",
       "        vertical-align: top;\n",
       "    }\n",
       "\n",
       "    .dataframe thead th {\n",
       "        text-align: right;\n",
       "    }\n",
       "</style>\n",
       "<table border=\"1\" class=\"dataframe\">\n",
       "  <thead>\n",
       "    <tr style=\"text-align: right;\">\n",
       "      <th></th>\n",
       "      <th>context</th>\n",
       "    </tr>\n",
       "  </thead>\n",
       "  <tbody>\n",
       "    <tr>\n",
       "      <th>0</th>\n",
       "      <td>The World Health Organization announced the No...</td>\n",
       "    </tr>\n",
       "    <tr>\n",
       "      <th>1</th>\n",
       "      <td>Cancer is frequent in dogs and is by far their...</td>\n",
       "    </tr>\n",
       "    <tr>\n",
       "      <th>2</th>\n",
       "      <td>15 ARTDs have been linked previously to restri...</td>\n",
       "    </tr>\n",
       "    <tr>\n",
       "      <th>3</th>\n",
       "      <td>We found that granule cell neurons GCN of the ...</td>\n",
       "    </tr>\n",
       "    <tr>\n",
       "      <th>4</th>\n",
       "      <td>CJPH social media aims to engage our followers...</td>\n",
       "    </tr>\n",
       "    <tr>\n",
       "      <th>5</th>\n",
       "      <td>iBS etiology is still not well understood, how...</td>\n",
       "    </tr>\n",
       "    <tr>\n",
       "      <th>6</th>\n",
       "      <td>HF is an emerging epidemic with more than 26 m...</td>\n",
       "    </tr>\n",
       "    <tr>\n",
       "      <th>7</th>\n",
       "      <td>nitrogen dioxide NO2 is an important chemical ...</td>\n",
       "    </tr>\n",
       "    <tr>\n",
       "      <th>8</th>\n",
       "      <td>According to the importance of rapid tests in ...</td>\n",
       "    </tr>\n",
       "    <tr>\n",
       "      <th>9</th>\n",
       "      <td>professional burnout is an important issue for...</td>\n",
       "    </tr>\n",
       "    <tr>\n",
       "      <th>10</th>\n",
       "      <td>NPs and PAs represent rheumatology colleagues ...</td>\n",
       "    </tr>\n",
       "    <tr>\n",
       "      <th>11</th>\n",
       "      <td>No national guidelines exist for integrating e...</td>\n",
       "    </tr>\n",
       "    <tr>\n",
       "      <th>12</th>\n",
       "      <td>there are no conflicts of interest. the author...</td>\n",
       "    </tr>\n",
       "    <tr>\n",
       "      <th>13</th>\n",
       "      <td>Oral complications, whether acute or chronic, ...</td>\n",
       "    </tr>\n",
       "    <tr>\n",
       "      <th>14</th>\n",
       "      <td>Each author should have participated sufficien...</td>\n",
       "    </tr>\n",
       "    <tr>\n",
       "      <th>15</th>\n",
       "      <td>The increasing number of cyclopentanoid natura...</td>\n",
       "    </tr>\n",
       "    <tr>\n",
       "      <th>16</th>\n",
       "      <td>artificial Intelligence includes approaches an...</td>\n",
       "    </tr>\n",
       "    <tr>\n",
       "      <th>17</th>\n",
       "      <td>china's response to the major NTS crisis such ...</td>\n",
       "    </tr>\n",
       "    <tr>\n",
       "      <th>18</th>\n",
       "      <td>Medication administration process is complex a...</td>\n",
       "    </tr>\n",
       "    <tr>\n",
       "      <th>19</th>\n",
       "      <td>sarcopenia is a progressive, generalized skele...</td>\n",
       "    </tr>\n",
       "    <tr>\n",
       "      <th>20</th>\n",
       "      <td>Glaucoma is the third leading cause of global ...</td>\n",
       "    </tr>\n",
       "    <tr>\n",
       "      <th>21</th>\n",
       "      <td>although the role smoking plays in the risk of...</td>\n",
       "    </tr>\n",
       "    <tr>\n",
       "      <th>22</th>\n",
       "      <td>The impact of colonialism and neo-colonialism ...</td>\n",
       "    </tr>\n",
       "    <tr>\n",
       "      <th>23</th>\n",
       "      <td>subpial type III cortical lesions have emerged...</td>\n",
       "    </tr>\n",
       "    <tr>\n",
       "      <th>24</th>\n",
       "      <td>Tuberculosis TB represents an urgent health pr...</td>\n",
       "    </tr>\n",
       "    <tr>\n",
       "      <th>25</th>\n",
       "      <td>physiological data in physiological computing...</td>\n",
       "    </tr>\n",
       "    <tr>\n",
       "      <th>26</th>\n",
       "      <td>obstructive sleep apnea OSA is a highly preval...</td>\n",
       "    </tr>\n",
       "    <tr>\n",
       "      <th>27</th>\n",
       "      <td>The Smart Applications REFerence ontology SARE...</td>\n",
       "    </tr>\n",
       "    <tr>\n",
       "      <th>28</th>\n",
       "      <td>This is the first time that a divided attentio...</td>\n",
       "    </tr>\n",
       "    <tr>\n",
       "      <th>29</th>\n",
       "      <td>Physical inactivity PA adversely affects older...</td>\n",
       "    </tr>\n",
       "    <tr>\n",
       "      <th>30</th>\n",
       "      <td>Autism spectrum disorder ASD represents a grou...</td>\n",
       "    </tr>\n",
       "    <tr>\n",
       "      <th>31</th>\n",
       "      <td>appendicitis is one of the most common causes...</td>\n",
       "    </tr>\n",
       "    <tr>\n",
       "      <th>32</th>\n",
       "      <td>Plastic pollution has become an increasing con...</td>\n",
       "    </tr>\n",
       "  </tbody>\n",
       "</table>\n",
       "</div>"
      ],
      "text/plain": [
       "                                              context\n",
       "0   The World Health Organization announced the No...\n",
       "1   Cancer is frequent in dogs and is by far their...\n",
       "2   15 ARTDs have been linked previously to restri...\n",
       "3   We found that granule cell neurons GCN of the ...\n",
       "4   CJPH social media aims to engage our followers...\n",
       "5   iBS etiology is still not well understood, how...\n",
       "6   HF is an emerging epidemic with more than 26 m...\n",
       "7   nitrogen dioxide NO2 is an important chemical ...\n",
       "8   According to the importance of rapid tests in ...\n",
       "9   professional burnout is an important issue for...\n",
       "10  NPs and PAs represent rheumatology colleagues ...\n",
       "11  No national guidelines exist for integrating e...\n",
       "12  there are no conflicts of interest. the author...\n",
       "13  Oral complications, whether acute or chronic, ...\n",
       "14  Each author should have participated sufficien...\n",
       "15  The increasing number of cyclopentanoid natura...\n",
       "16  artificial Intelligence includes approaches an...\n",
       "17  china's response to the major NTS crisis such ...\n",
       "18  Medication administration process is complex a...\n",
       "19  sarcopenia is a progressive, generalized skele...\n",
       "20  Glaucoma is the third leading cause of global ...\n",
       "21  although the role smoking plays in the risk of...\n",
       "22  The impact of colonialism and neo-colonialism ...\n",
       "23  subpial type III cortical lesions have emerged...\n",
       "24  Tuberculosis TB represents an urgent health pr...\n",
       "25   physiological data in physiological computing...\n",
       "26  obstructive sleep apnea OSA is a highly preval...\n",
       "27  The Smart Applications REFerence ontology SARE...\n",
       "28  This is the first time that a divided attentio...\n",
       "29  Physical inactivity PA adversely affects older...\n",
       "30  Autism spectrum disorder ASD represents a grou...\n",
       "31   appendicitis is one of the most common causes...\n",
       "32  Plastic pollution has become an increasing con..."
      ]
     },
     "execution_count": 20,
     "metadata": {},
     "output_type": "execute_result"
    }
   ],
   "source": [
    "df_context"
   ]
  },
  {
   "cell_type": "code",
   "execution_count": 3,
   "metadata": {},
   "outputs": [],
   "source": [
    "df_context['Topic']=df_context.index"
   ]
  },
  {
   "cell_type": "code",
   "execution_count": 4,
   "metadata": {},
   "outputs": [
    {
     "data": {
      "text/html": [
       "<div>\n",
       "<style scoped>\n",
       "    .dataframe tbody tr th:only-of-type {\n",
       "        vertical-align: middle;\n",
       "    }\n",
       "\n",
       "    .dataframe tbody tr th {\n",
       "        vertical-align: top;\n",
       "    }\n",
       "\n",
       "    .dataframe thead th {\n",
       "        text-align: right;\n",
       "    }\n",
       "</style>\n",
       "<table border=\"1\" class=\"dataframe\">\n",
       "  <thead>\n",
       "    <tr style=\"text-align: right;\">\n",
       "      <th></th>\n",
       "      <th>Topic</th>\n",
       "      <th>TaggedSentence</th>\n",
       "      <th>Answer</th>\n",
       "      <th>Question</th>\n",
       "      <th>context</th>\n",
       "    </tr>\n",
       "  </thead>\n",
       "  <tbody>\n",
       "    <tr>\n",
       "      <th>0</th>\n",
       "      <td>0</td>\n",
       "      <td>The [HL] World Health Organization [HL] announ...</td>\n",
       "      <td>World Health Organization</td>\n",
       "      <td>Who announced the Novel Coronavirus SARS-CoV-2...</td>\n",
       "      <td>The World Health Organization announced the No...</td>\n",
       "    </tr>\n",
       "    <tr>\n",
       "      <th>1</th>\n",
       "      <td>0</td>\n",
       "      <td>The World Health Organization announced the No...</td>\n",
       "      <td>pandemic March</td>\n",
       "      <td>What did the World Health Organization announc...</td>\n",
       "      <td>The World Health Organization announced the No...</td>\n",
       "    </tr>\n",
       "    <tr>\n",
       "      <th>2</th>\n",
       "      <td>0</td>\n",
       "      <td>Since the WHO has warned about the beginning o...</td>\n",
       "      <td>equipment protocols</td>\n",
       "      <td>Since the beginning of the pandemic in March, ...</td>\n",
       "      <td>The World Health Organization announced the No...</td>\n",
       "    </tr>\n",
       "    <tr>\n",
       "      <th>3</th>\n",
       "      <td>0</td>\n",
       "      <td>Since the WHO has warned about the beginning o...</td>\n",
       "      <td>medical institutions</td>\n",
       "      <td>Where have basic protective equipment and safe...</td>\n",
       "      <td>The World Health Organization announced the No...</td>\n",
       "    </tr>\n",
       "    <tr>\n",
       "      <th>4</th>\n",
       "      <td>0</td>\n",
       "      <td>[HL] healthcare workers [HL] are experiencing ...</td>\n",
       "      <td>healthcare workers</td>\n",
       "      <td>Who are experiencing pressure from stressors?</td>\n",
       "      <td>The World Health Organization announced the No...</td>\n",
       "    </tr>\n",
       "    <tr>\n",
       "      <th>...</th>\n",
       "      <td>...</td>\n",
       "      <td>...</td>\n",
       "      <td>...</td>\n",
       "      <td>...</td>\n",
       "      <td>...</td>\n",
       "    </tr>\n",
       "    <tr>\n",
       "      <th>1039</th>\n",
       "      <td>32</td>\n",
       "      <td>most studies have dealt with the degradation o...</td>\n",
       "      <td>single leachate</td>\n",
       "      <td>What studies have dealt with degradation of si...</td>\n",
       "      <td>Plastic pollution has become an increasing con...</td>\n",
       "    </tr>\n",
       "    <tr>\n",
       "      <th>1040</th>\n",
       "      <td>32</td>\n",
       "      <td>[HL] Leachate [HL] is a form of organic acid.</td>\n",
       "      <td>Leachate</td>\n",
       "      <td>What is a form of organic acid?</td>\n",
       "      <td>Plastic pollution has become an increasing con...</td>\n",
       "    </tr>\n",
       "    <tr>\n",
       "      <th>1041</th>\n",
       "      <td>32</td>\n",
       "      <td>Leachate is a form of [HL] organic acid [HL].</td>\n",
       "      <td>organic acid</td>\n",
       "      <td>What is leachate a form of?</td>\n",
       "      <td>Plastic pollution has become an increasing con...</td>\n",
       "    </tr>\n",
       "    <tr>\n",
       "      <th>1042</th>\n",
       "      <td>32</td>\n",
       "      <td>[HL] It [HL] is produced by the decomposition ...</td>\n",
       "      <td>It</td>\n",
       "      <td>How is water produced?</td>\n",
       "      <td>Plastic pollution has become an increasing con...</td>\n",
       "    </tr>\n",
       "    <tr>\n",
       "      <th>1043</th>\n",
       "      <td>32</td>\n",
       "      <td>It is produced by the decomposition of organic...</td>\n",
       "      <td>organic water</td>\n",
       "      <td>What is produced by decomposition organic comp...</td>\n",
       "      <td>Plastic pollution has become an increasing con...</td>\n",
       "    </tr>\n",
       "  </tbody>\n",
       "</table>\n",
       "<p>1044 rows × 5 columns</p>\n",
       "</div>"
      ],
      "text/plain": [
       "      Topic                                     TaggedSentence  \\\n",
       "0         0  The [HL] World Health Organization [HL] announ...   \n",
       "1         0  The World Health Organization announced the No...   \n",
       "2         0  Since the WHO has warned about the beginning o...   \n",
       "3         0  Since the WHO has warned about the beginning o...   \n",
       "4         0  [HL] healthcare workers [HL] are experiencing ...   \n",
       "...     ...                                                ...   \n",
       "1039     32  most studies have dealt with the degradation o...   \n",
       "1040     32      [HL] Leachate [HL] is a form of organic acid.   \n",
       "1041     32      Leachate is a form of [HL] organic acid [HL].   \n",
       "1042     32  [HL] It [HL] is produced by the decomposition ...   \n",
       "1043     32  It is produced by the decomposition of organic...   \n",
       "\n",
       "                         Answer  \\\n",
       "0     World Health Organization   \n",
       "1                pandemic March   \n",
       "2           equipment protocols   \n",
       "3          medical institutions   \n",
       "4            healthcare workers   \n",
       "...                         ...   \n",
       "1039            single leachate   \n",
       "1040                   Leachate   \n",
       "1041               organic acid   \n",
       "1042                         It   \n",
       "1043              organic water   \n",
       "\n",
       "                                               Question  \\\n",
       "0     Who announced the Novel Coronavirus SARS-CoV-2...   \n",
       "1     What did the World Health Organization announc...   \n",
       "2     Since the beginning of the pandemic in March, ...   \n",
       "3     Where have basic protective equipment and safe...   \n",
       "4         Who are experiencing pressure from stressors?   \n",
       "...                                                 ...   \n",
       "1039  What studies have dealt with degradation of si...   \n",
       "1040                    What is a form of organic acid?   \n",
       "1041                        What is leachate a form of?   \n",
       "1042                             How is water produced?   \n",
       "1043  What is produced by decomposition organic comp...   \n",
       "\n",
       "                                                context  \n",
       "0     The World Health Organization announced the No...  \n",
       "1     The World Health Organization announced the No...  \n",
       "2     The World Health Organization announced the No...  \n",
       "3     The World Health Organization announced the No...  \n",
       "4     The World Health Organization announced the No...  \n",
       "...                                                 ...  \n",
       "1039  Plastic pollution has become an increasing con...  \n",
       "1040  Plastic pollution has become an increasing con...  \n",
       "1041  Plastic pollution has become an increasing con...  \n",
       "1042  Plastic pollution has become an increasing con...  \n",
       "1043  Plastic pollution has become an increasing con...  \n",
       "\n",
       "[1044 rows x 5 columns]"
      ]
     },
     "execution_count": 4,
     "metadata": {},
     "output_type": "execute_result"
    }
   ],
   "source": [
    "\n",
    "merged_df = pd.merge(df, df_context, on='Topic', how='left')\n",
    "merged_df"
   ]
  },
  {
   "cell_type": "code",
   "execution_count": 5,
   "metadata": {},
   "outputs": [],
   "source": [
    "merged_df = merged_df.rename(columns={\"Answer\": \"answers\", \"Question\" : \"question\", \"Abstractive Summary\" : \"context\"})\n",
    "\n",
    "# Convert the updated DataFrame to a list of dictionaries for question-answering\n",
    "qa_data_cleaned = merged_df[['question', 'answers', 'context']]"
   ]
  },
  {
   "cell_type": "code",
   "execution_count": 6,
   "metadata": {},
   "outputs": [
    {
     "name": "stderr",
     "output_type": "stream",
     "text": [
      "C:\\Users\\yaoji\\AppData\\Local\\Temp\\ipykernel_12252\\2725166270.py:1: SettingWithCopyWarning: \n",
      "A value is trying to be set on a copy of a slice from a DataFrame.\n",
      "Try using .loc[row_indexer,col_indexer] = value instead\n",
      "\n",
      "See the caveats in the documentation: https://pandas.pydata.org/pandas-docs/stable/user_guide/indexing.html#returning-a-view-versus-a-copy\n",
      "  qa_data_cleaned['answers'] = qa_data_cleaned['answers'].astype(str)\n",
      "C:\\Users\\yaoji\\AppData\\Local\\Temp\\ipykernel_12252\\2725166270.py:2: SettingWithCopyWarning: \n",
      "A value is trying to be set on a copy of a slice from a DataFrame.\n",
      "Try using .loc[row_indexer,col_indexer] = value instead\n",
      "\n",
      "See the caveats in the documentation: https://pandas.pydata.org/pandas-docs/stable/user_guide/indexing.html#returning-a-view-versus-a-copy\n",
      "  qa_data_cleaned['question'] = qa_data_cleaned['question'].astype(str)\n",
      "C:\\Users\\yaoji\\AppData\\Local\\Temp\\ipykernel_12252\\2725166270.py:3: SettingWithCopyWarning: \n",
      "A value is trying to be set on a copy of a slice from a DataFrame.\n",
      "Try using .loc[row_indexer,col_indexer] = value instead\n",
      "\n",
      "See the caveats in the documentation: https://pandas.pydata.org/pandas-docs/stable/user_guide/indexing.html#returning-a-view-versus-a-copy\n",
      "  qa_data_cleaned['context'] = qa_data_cleaned['context'].astype(str)\n"
     ]
    }
   ],
   "source": [
    "qa_data_cleaned['answers'] = qa_data_cleaned['answers'].astype(str)\n",
    "qa_data_cleaned['question'] = qa_data_cleaned['question'].astype(str)\n",
    "qa_data_cleaned['context'] = qa_data_cleaned['context'].astype(str)"
   ]
  },
  {
   "cell_type": "code",
   "execution_count": 7,
   "metadata": {},
   "outputs": [
    {
     "name": "stderr",
     "output_type": "stream",
     "text": [
      "C:\\Users\\yaoji\\AppData\\Local\\Temp\\ipykernel_12252\\775699054.py:10: SettingWithCopyWarning: \n",
      "A value is trying to be set on a copy of a slice from a DataFrame.\n",
      "Try using .loc[row_indexer,col_indexer] = value instead\n",
      "\n",
      "See the caveats in the documentation: https://pandas.pydata.org/pandas-docs/stable/user_guide/indexing.html#returning-a-view-versus-a-copy\n",
      "  qa_data_cleaned['answers'] = qa_data_cleaned.apply(lambda row: {'text': [row['answers']], 'answer_start': [find_answer_start(row['context'], row['answers'])]}, axis=1)\n"
     ]
    },
    {
     "data": {
      "text/html": [
       "<div>\n",
       "<style scoped>\n",
       "    .dataframe tbody tr th:only-of-type {\n",
       "        vertical-align: middle;\n",
       "    }\n",
       "\n",
       "    .dataframe tbody tr th {\n",
       "        vertical-align: top;\n",
       "    }\n",
       "\n",
       "    .dataframe thead th {\n",
       "        text-align: right;\n",
       "    }\n",
       "</style>\n",
       "<table border=\"1\" class=\"dataframe\">\n",
       "  <thead>\n",
       "    <tr style=\"text-align: right;\">\n",
       "      <th></th>\n",
       "      <th>question</th>\n",
       "      <th>answers</th>\n",
       "      <th>context</th>\n",
       "    </tr>\n",
       "  </thead>\n",
       "  <tbody>\n",
       "    <tr>\n",
       "      <th>0</th>\n",
       "      <td>Who announced the Novel Coronavirus SARS-CoV-2...</td>\n",
       "      <td>{'text': ['World Health Organization'], 'answe...</td>\n",
       "      <td>The World Health Organization announced the No...</td>\n",
       "    </tr>\n",
       "    <tr>\n",
       "      <th>1</th>\n",
       "      <td>What did the World Health Organization announc...</td>\n",
       "      <td>{'text': ['pandemic March'], 'answer_start': [...</td>\n",
       "      <td>The World Health Organization announced the No...</td>\n",
       "    </tr>\n",
       "    <tr>\n",
       "      <th>2</th>\n",
       "      <td>Since the beginning of the pandemic in March, ...</td>\n",
       "      <td>{'text': ['equipment protocols'], 'answer_star...</td>\n",
       "      <td>The World Health Organization announced the No...</td>\n",
       "    </tr>\n",
       "    <tr>\n",
       "      <th>3</th>\n",
       "      <td>Where have basic protective equipment and safe...</td>\n",
       "      <td>{'text': ['medical institutions'], 'answer_sta...</td>\n",
       "      <td>The World Health Organization announced the No...</td>\n",
       "    </tr>\n",
       "    <tr>\n",
       "      <th>4</th>\n",
       "      <td>Who are experiencing pressure from stressors?</td>\n",
       "      <td>{'text': ['healthcare workers'], 'answer_start...</td>\n",
       "      <td>The World Health Organization announced the No...</td>\n",
       "    </tr>\n",
       "    <tr>\n",
       "      <th>...</th>\n",
       "      <td>...</td>\n",
       "      <td>...</td>\n",
       "      <td>...</td>\n",
       "    </tr>\n",
       "    <tr>\n",
       "      <th>1039</th>\n",
       "      <td>What studies have dealt with degradation of si...</td>\n",
       "      <td>{'text': ['single leachate'], 'answer_start': ...</td>\n",
       "      <td>Plastic pollution has become an increasing con...</td>\n",
       "    </tr>\n",
       "    <tr>\n",
       "      <th>1040</th>\n",
       "      <td>What is a form of organic acid?</td>\n",
       "      <td>{'text': ['Leachate'], 'answer_start': [1253]}</td>\n",
       "      <td>Plastic pollution has become an increasing con...</td>\n",
       "    </tr>\n",
       "    <tr>\n",
       "      <th>1041</th>\n",
       "      <td>What is leachate a form of?</td>\n",
       "      <td>{'text': ['organic acid'], 'answer_start': [14...</td>\n",
       "      <td>Plastic pollution has become an increasing con...</td>\n",
       "    </tr>\n",
       "    <tr>\n",
       "      <th>1042</th>\n",
       "      <td>How is water produced?</td>\n",
       "      <td>{'text': ['It'], 'answer_start': [218]}</td>\n",
       "      <td>Plastic pollution has become an increasing con...</td>\n",
       "    </tr>\n",
       "    <tr>\n",
       "      <th>1043</th>\n",
       "      <td>What is produced by decomposition organic comp...</td>\n",
       "      <td>{'text': ['organic water'], 'answer_start': [-1]}</td>\n",
       "      <td>Plastic pollution has become an increasing con...</td>\n",
       "    </tr>\n",
       "  </tbody>\n",
       "</table>\n",
       "<p>1044 rows × 3 columns</p>\n",
       "</div>"
      ],
      "text/plain": [
       "                                               question  \\\n",
       "0     Who announced the Novel Coronavirus SARS-CoV-2...   \n",
       "1     What did the World Health Organization announc...   \n",
       "2     Since the beginning of the pandemic in March, ...   \n",
       "3     Where have basic protective equipment and safe...   \n",
       "4         Who are experiencing pressure from stressors?   \n",
       "...                                                 ...   \n",
       "1039  What studies have dealt with degradation of si...   \n",
       "1040                    What is a form of organic acid?   \n",
       "1041                        What is leachate a form of?   \n",
       "1042                             How is water produced?   \n",
       "1043  What is produced by decomposition organic comp...   \n",
       "\n",
       "                                                answers  \\\n",
       "0     {'text': ['World Health Organization'], 'answe...   \n",
       "1     {'text': ['pandemic March'], 'answer_start': [...   \n",
       "2     {'text': ['equipment protocols'], 'answer_star...   \n",
       "3     {'text': ['medical institutions'], 'answer_sta...   \n",
       "4     {'text': ['healthcare workers'], 'answer_start...   \n",
       "...                                                 ...   \n",
       "1039  {'text': ['single leachate'], 'answer_start': ...   \n",
       "1040     {'text': ['Leachate'], 'answer_start': [1253]}   \n",
       "1041  {'text': ['organic acid'], 'answer_start': [14...   \n",
       "1042            {'text': ['It'], 'answer_start': [218]}   \n",
       "1043  {'text': ['organic water'], 'answer_start': [-1]}   \n",
       "\n",
       "                                                context  \n",
       "0     The World Health Organization announced the No...  \n",
       "1     The World Health Organization announced the No...  \n",
       "2     The World Health Organization announced the No...  \n",
       "3     The World Health Organization announced the No...  \n",
       "4     The World Health Organization announced the No...  \n",
       "...                                                 ...  \n",
       "1039  Plastic pollution has become an increasing con...  \n",
       "1040  Plastic pollution has become an increasing con...  \n",
       "1041  Plastic pollution has become an increasing con...  \n",
       "1042  Plastic pollution has become an increasing con...  \n",
       "1043  Plastic pollution has become an increasing con...  \n",
       "\n",
       "[1044 rows x 3 columns]"
      ]
     },
     "execution_count": 7,
     "metadata": {},
     "output_type": "execute_result"
    }
   ],
   "source": [
    "import pandas as pd\n",
    "\n",
    "# Assuming df is your pandas DataFrame\n",
    "\n",
    "# Define a function to find the start position of the answer in the context\n",
    "def find_answer_start(context, answer):\n",
    "    return context.find(answer)\n",
    "\n",
    "# Adjust the 'answers' column to match the expected structure\n",
    "qa_data_cleaned['answers'] = qa_data_cleaned.apply(lambda row: {'text': [row['answers']], 'answer_start': [find_answer_start(row['context'], row['answers'])]}, axis=1)\n",
    "\n",
    "# Show the updated DataFrame\n",
    "qa_data_cleaned"
   ]
  },
  {
   "cell_type": "code",
   "execution_count": 8,
   "metadata": {},
   "outputs": [],
   "source": [
    "def preprocess_function(examples):\n",
    "    questions = [q.strip() for q in examples[\"question\"]]\n",
    "    inputs = tokenizer(\n",
    "        questions,\n",
    "        examples[\"context\"],\n",
    "        max_length=384,\n",
    "        truncation=\"only_second\",\n",
    "        return_offsets_mapping=True,\n",
    "        padding=\"max_length\",\n",
    "    )\n",
    "\n",
    "    offset_mapping = inputs.pop(\"offset_mapping\")\n",
    "    answers = examples[\"answers\"]\n",
    "    start_positions = []\n",
    "    end_positions = []\n",
    "\n",
    "    for i, offset in enumerate(offset_mapping):\n",
    "        answer = answers[i]\n",
    "        start_char = answer[\"answer_start\"][0]\n",
    "        end_char = answer[\"answer_start\"][0] + len(answer[\"text\"][0])\n",
    "        sequence_ids = inputs.sequence_ids(i)\n",
    "\n",
    "        # Find the start and end of the context\n",
    "        idx = 0\n",
    "        while sequence_ids[idx] != 1:\n",
    "            idx += 1\n",
    "        context_start = idx\n",
    "        while sequence_ids[idx] == 1:\n",
    "            idx += 1\n",
    "        context_end = idx - 1\n",
    "\n",
    "        # If the answer is not fully inside the context, label it (0, 0)\n",
    "        if offset[context_start][0] > end_char or offset[context_end][1] < start_char:\n",
    "            start_positions.append(0)\n",
    "            end_positions.append(0)\n",
    "        else:\n",
    "            # Otherwise it's the start and end token positions\n",
    "            idx = context_start\n",
    "            while idx <= context_end and offset[idx][0] <= start_char:\n",
    "                idx += 1\n",
    "            start_positions.append(idx - 1)\n",
    "\n",
    "            idx = context_end\n",
    "            while idx >= context_start and offset[idx][1] >= end_char:\n",
    "                idx -= 1\n",
    "            end_positions.append(idx + 1)\n",
    "\n",
    "    inputs[\"start_positions\"] = start_positions\n",
    "    inputs[\"end_positions\"] = end_positions\n",
    "    return inputs"
   ]
  },
  {
   "cell_type": "code",
   "execution_count": 9,
   "metadata": {},
   "outputs": [
    {
     "data": {
      "application/vnd.jupyter.widget-view+json": {
       "model_id": "25a8c3e7183b43b5961d0b2575521ad2",
       "version_major": 2,
       "version_minor": 0
      },
      "text/plain": [
       "Map:   0%|          | 0/835 [00:00<?, ? examples/s]"
      ]
     },
     "metadata": {},
     "output_type": "display_data"
    },
    {
     "data": {
      "application/vnd.jupyter.widget-view+json": {
       "model_id": "45ce609f4a624b54b31acbff5757cf48",
       "version_major": 2,
       "version_minor": 0
      },
      "text/plain": [
       "Map:   0%|          | 0/209 [00:00<?, ? examples/s]"
      ]
     },
     "metadata": {},
     "output_type": "display_data"
    }
   ],
   "source": [
    "from datasets import Dataset\n",
    "data_dicts = qa_data_cleaned.to_dict('records')\n",
    "dataset = Dataset.from_pandas(pd.DataFrame(data_dicts))\n",
    "dataset = dataset.train_test_split(test_size=0.2)\n",
    "\n",
    "tokenized_dataset = dataset.map(preprocess_function, batched=True, remove_columns=['question', 'answers', 'context'])"
   ]
  },
  {
   "cell_type": "code",
   "execution_count": 10,
   "metadata": {},
   "outputs": [],
   "source": [
    "from torch.utils.data import DataLoader\n",
    "from transformers import DataCollatorWithPadding\n",
    "\n",
    "# Initialize the data collator\n",
    "data_collator = DataCollatorWithPadding(tokenizer=tokenizer, return_tensors=\"pt\")\n",
    "\n",
    "# Assuming `tokenized_dataset` is your DatasetDict after applying preprocess_function\n",
    "\n",
    "# Convert the 'train' and 'test' splits to PyTorch DataLoader\n",
    "train_dataloader = DataLoader(\n",
    "    tokenized_dataset[\"train\"],\n",
    "    shuffle=True,\n",
    "    batch_size=16,\n",
    "    collate_fn=data_collator,\n",
    ")\n",
    "\n",
    "validation_dataloader = DataLoader(\n",
    "    tokenized_dataset[\"test\"],\n",
    "    shuffle=True,\n",
    "    batch_size=16,\n",
    "    collate_fn=data_collator,\n",
    ")"
   ]
  },
  {
   "cell_type": "code",
   "execution_count": 11,
   "metadata": {},
   "outputs": [
    {
     "name": "stderr",
     "output_type": "stream",
     "text": [
      "c:\\Python312\\Lib\\site-packages\\accelerate\\accelerator.py:436: FutureWarning: Passing the following arguments to `Accelerator` is deprecated and will be removed in version 1.0 of Accelerate: dict_keys(['dispatch_batches', 'split_batches']). Please pass an `accelerate.DataLoaderConfiguration` instead: \n",
      "dataloader_config = DataLoaderConfiguration(dispatch_batches=None, split_batches=False)\n",
      "  warnings.warn(\n"
     ]
    }
   ],
   "source": [
    "from transformers import AutoModelForQuestionAnswering, TrainingArguments, Trainer\n",
    "\n",
    "training_args = TrainingArguments(\n",
    "    output_dir=\"my_awesome_qa_model\",\n",
    "    evaluation_strategy=\"epoch\",\n",
    "    learning_rate=2e-5,\n",
    "    per_device_train_batch_size=16,\n",
    "    per_device_eval_batch_size=16,\n",
    "    num_train_epochs=10,\n",
    "    push_to_hub=False,\n",
    ")\n",
    "\n",
    "trainer = Trainer(\n",
    "    model=model,\n",
    "    args=training_args,\n",
    "    train_dataset=tokenized_dataset[\"train\"],\n",
    "    eval_dataset=tokenized_dataset[\"test\"],\n",
    "    tokenizer=tokenizer,\n",
    "    data_collator=data_collator,\n",
    ")\n",
    "\n"
   ]
  },
  {
   "cell_type": "code",
   "execution_count": 12,
   "metadata": {},
   "outputs": [
    {
     "data": {
      "application/vnd.jupyter.widget-view+json": {
       "model_id": "b385c4f1aeb846d085703c0d8aea266e",
       "version_major": 2,
       "version_minor": 0
      },
      "text/plain": [
       "  0%|          | 0/530 [00:00<?, ?it/s]"
      ]
     },
     "metadata": {},
     "output_type": "display_data"
    },
    {
     "data": {
      "application/vnd.jupyter.widget-view+json": {
       "model_id": "705e814e14c9498184fc5aa48619fe69",
       "version_major": 2,
       "version_minor": 0
      },
      "text/plain": [
       "  0%|          | 0/14 [00:00<?, ?it/s]"
      ]
     },
     "metadata": {},
     "output_type": "display_data"
    },
    {
     "name": "stdout",
     "output_type": "stream",
     "text": [
      "{'eval_loss': 4.150416851043701, 'eval_runtime': 24.072, 'eval_samples_per_second': 8.682, 'eval_steps_per_second': 0.582, 'epoch': 1.0}\n"
     ]
    },
    {
     "data": {
      "application/vnd.jupyter.widget-view+json": {
       "model_id": "76380b3e70c549dc96b757fb0d4cf803",
       "version_major": 2,
       "version_minor": 0
      },
      "text/plain": [
       "  0%|          | 0/14 [00:00<?, ?it/s]"
      ]
     },
     "metadata": {},
     "output_type": "display_data"
    },
    {
     "name": "stdout",
     "output_type": "stream",
     "text": [
      "{'eval_loss': 4.018680095672607, 'eval_runtime': 24.191, 'eval_samples_per_second': 8.64, 'eval_steps_per_second': 0.579, 'epoch': 2.0}\n"
     ]
    },
    {
     "data": {
      "application/vnd.jupyter.widget-view+json": {
       "model_id": "4bd02099ed62477d94cb6b2ea8be792b",
       "version_major": 2,
       "version_minor": 0
      },
      "text/plain": [
       "  0%|          | 0/14 [00:00<?, ?it/s]"
      ]
     },
     "metadata": {},
     "output_type": "display_data"
    },
    {
     "name": "stdout",
     "output_type": "stream",
     "text": [
      "{'eval_loss': 3.853731632232666, 'eval_runtime': 24.24, 'eval_samples_per_second': 8.622, 'eval_steps_per_second': 0.578, 'epoch': 3.0}\n"
     ]
    },
    {
     "data": {
      "application/vnd.jupyter.widget-view+json": {
       "model_id": "1be7479d92b6408e8f29ed5cf08361da",
       "version_major": 2,
       "version_minor": 0
      },
      "text/plain": [
       "  0%|          | 0/14 [00:00<?, ?it/s]"
      ]
     },
     "metadata": {},
     "output_type": "display_data"
    },
    {
     "name": "stdout",
     "output_type": "stream",
     "text": [
      "{'eval_loss': 3.923511028289795, 'eval_runtime': 24.281, 'eval_samples_per_second': 8.608, 'eval_steps_per_second': 0.577, 'epoch': 4.0}\n"
     ]
    },
    {
     "data": {
      "application/vnd.jupyter.widget-view+json": {
       "model_id": "0935289241e84018abd7fa112969a3cf",
       "version_major": 2,
       "version_minor": 0
      },
      "text/plain": [
       "  0%|          | 0/14 [00:00<?, ?it/s]"
      ]
     },
     "metadata": {},
     "output_type": "display_data"
    },
    {
     "name": "stdout",
     "output_type": "stream",
     "text": [
      "{'eval_loss': 3.872882127761841, 'eval_runtime': 24.19, 'eval_samples_per_second': 8.64, 'eval_steps_per_second': 0.579, 'epoch': 5.0}\n"
     ]
    },
    {
     "data": {
      "application/vnd.jupyter.widget-view+json": {
       "model_id": "8e8f38fbe2e04a94bbb55af13f621d5a",
       "version_major": 2,
       "version_minor": 0
      },
      "text/plain": [
       "  0%|          | 0/14 [00:00<?, ?it/s]"
      ]
     },
     "metadata": {},
     "output_type": "display_data"
    },
    {
     "name": "stdout",
     "output_type": "stream",
     "text": [
      "{'eval_loss': 3.9235141277313232, 'eval_runtime': 24.292, 'eval_samples_per_second': 8.604, 'eval_steps_per_second': 0.576, 'epoch': 6.0}\n"
     ]
    },
    {
     "data": {
      "application/vnd.jupyter.widget-view+json": {
       "model_id": "0bd8840bbbc8442c9edb0ff9004bc2c7",
       "version_major": 2,
       "version_minor": 0
      },
      "text/plain": [
       "  0%|          | 0/14 [00:00<?, ?it/s]"
      ]
     },
     "metadata": {},
     "output_type": "display_data"
    },
    {
     "name": "stdout",
     "output_type": "stream",
     "text": [
      "{'eval_loss': 4.0066633224487305, 'eval_runtime': 24.37, 'eval_samples_per_second': 8.576, 'eval_steps_per_second': 0.574, 'epoch': 7.0}\n"
     ]
    },
    {
     "data": {
      "application/vnd.jupyter.widget-view+json": {
       "model_id": "8b95bf1657734635b6117b0dfeedefd0",
       "version_major": 2,
       "version_minor": 0
      },
      "text/plain": [
       "  0%|          | 0/14 [00:00<?, ?it/s]"
      ]
     },
     "metadata": {},
     "output_type": "display_data"
    },
    {
     "name": "stdout",
     "output_type": "stream",
     "text": [
      "{'eval_loss': 3.9910988807678223, 'eval_runtime': 24.256, 'eval_samples_per_second': 8.616, 'eval_steps_per_second': 0.577, 'epoch': 8.0}\n"
     ]
    },
    {
     "data": {
      "application/vnd.jupyter.widget-view+json": {
       "model_id": "ece27cdcb1cd450c9616bfe2cb4c2f94",
       "version_major": 2,
       "version_minor": 0
      },
      "text/plain": [
       "  0%|          | 0/14 [00:00<?, ?it/s]"
      ]
     },
     "metadata": {},
     "output_type": "display_data"
    },
    {
     "name": "stdout",
     "output_type": "stream",
     "text": [
      "{'eval_loss': 4.0184245109558105, 'eval_runtime': 24.371, 'eval_samples_per_second': 8.576, 'eval_steps_per_second': 0.574, 'epoch': 9.0}\n",
      "{'loss': 3.1538, 'learning_rate': 1.1320754716981133e-06, 'epoch': 9.43}\n"
     ]
    },
    {
     "data": {
      "application/vnd.jupyter.widget-view+json": {
       "model_id": "fc2a1ce2f5064dbdbb57efd58c96006a",
       "version_major": 2,
       "version_minor": 0
      },
      "text/plain": [
       "  0%|          | 0/14 [00:00<?, ?it/s]"
      ]
     },
     "metadata": {},
     "output_type": "display_data"
    },
    {
     "name": "stdout",
     "output_type": "stream",
     "text": [
      "{'eval_loss': 4.0141706466674805, 'eval_runtime': 24.428, 'eval_samples_per_second': 8.556, 'eval_steps_per_second': 0.573, 'epoch': 10.0}\n",
      "{'train_runtime': 3285.7684, 'train_samples_per_second': 2.541, 'train_steps_per_second': 0.161, 'train_loss': 3.1069964138966686, 'epoch': 10.0}\n"
     ]
    },
    {
     "data": {
      "text/plain": [
       "TrainOutput(global_step=530, training_loss=3.1069964138966686, metrics={'train_runtime': 3285.7684, 'train_samples_per_second': 2.541, 'train_steps_per_second': 0.161, 'train_loss': 3.1069964138966686, 'epoch': 10.0})"
      ]
     },
     "execution_count": 12,
     "metadata": {},
     "output_type": "execute_result"
    }
   ],
   "source": [
    "trainer.train()"
   ]
  },
  {
   "cell_type": "code",
   "execution_count": 15,
   "metadata": {},
   "outputs": [],
   "source": [
    "import torch\n",
    "torch.save(model.state_dict(), '../model/model_weights_7.pth')"
   ]
  },
  {
   "cell_type": "code",
   "execution_count": 16,
   "metadata": {},
   "outputs": [
    {
     "name": "stderr",
     "output_type": "stream",
     "text": [
      "Some weights of BertForQuestionAnswering were not initialized from the model checkpoint at emilyalsentzer/Bio_ClinicalBERT and are newly initialized: ['qa_outputs.bias', 'qa_outputs.weight']\n",
      "You should probably TRAIN this model on a down-stream task to be able to use it for predictions and inference.\n"
     ]
    },
    {
     "data": {
      "text/plain": [
       "BertForQuestionAnswering(\n",
       "  (bert): BertModel(\n",
       "    (embeddings): BertEmbeddings(\n",
       "      (word_embeddings): Embedding(28996, 768, padding_idx=0)\n",
       "      (position_embeddings): Embedding(512, 768)\n",
       "      (token_type_embeddings): Embedding(2, 768)\n",
       "      (LayerNorm): LayerNorm((768,), eps=1e-12, elementwise_affine=True)\n",
       "      (dropout): Dropout(p=0.1, inplace=False)\n",
       "    )\n",
       "    (encoder): BertEncoder(\n",
       "      (layer): ModuleList(\n",
       "        (0-11): 12 x BertLayer(\n",
       "          (attention): BertAttention(\n",
       "            (self): BertSelfAttention(\n",
       "              (query): Linear(in_features=768, out_features=768, bias=True)\n",
       "              (key): Linear(in_features=768, out_features=768, bias=True)\n",
       "              (value): Linear(in_features=768, out_features=768, bias=True)\n",
       "              (dropout): Dropout(p=0.1, inplace=False)\n",
       "            )\n",
       "            (output): BertSelfOutput(\n",
       "              (dense): Linear(in_features=768, out_features=768, bias=True)\n",
       "              (LayerNorm): LayerNorm((768,), eps=1e-12, elementwise_affine=True)\n",
       "              (dropout): Dropout(p=0.1, inplace=False)\n",
       "            )\n",
       "          )\n",
       "          (intermediate): BertIntermediate(\n",
       "            (dense): Linear(in_features=768, out_features=3072, bias=True)\n",
       "            (intermediate_act_fn): GELUActivation()\n",
       "          )\n",
       "          (output): BertOutput(\n",
       "            (dense): Linear(in_features=3072, out_features=768, bias=True)\n",
       "            (LayerNorm): LayerNorm((768,), eps=1e-12, elementwise_affine=True)\n",
       "            (dropout): Dropout(p=0.1, inplace=False)\n",
       "          )\n",
       "        )\n",
       "      )\n",
       "    )\n",
       "  )\n",
       "  (qa_outputs): Linear(in_features=768, out_features=2, bias=True)\n",
       ")"
      ]
     },
     "execution_count": 16,
     "metadata": {},
     "output_type": "execute_result"
    }
   ],
   "source": [
    "model = AutoModelForQuestionAnswering.from_pretrained(\"emilyalsentzer/Bio_ClinicalBERT\")\n",
    "model.load_state_dict(torch.load('../model/model_weights_7.pth'))\n",
    "model.eval()"
   ]
  },
  {
   "cell_type": "code",
   "execution_count": 17,
   "metadata": {},
   "outputs": [
    {
     "data": {
      "image/png": "[encoded data removed]",
      "text/plain": [
       "<Figure size 640x480 with 1 Axes>"
      ]
     },
     "metadata": {},
     "output_type": "display_data"
    }
   ],
   "source": [
    "train_losses = [log['loss'] for log in trainer.state.log_history if 'loss' in log and 'eval_loss' not in log]\n",
    "eval_losses = [log['eval_loss'] for log in trainer.state.log_history if 'eval_loss' in log]\n",
    "eval_metrics = [log for log in trainer.state.log_history if 'eval_loss' in log]  # Includes all eval metrics\n",
    "\n",
    "import matplotlib.pyplot as plt\n",
    "\n",
    "# Plot training loss\n",
    "plt.plot(train_losses, label='Training Loss')\n",
    "\n",
    "# Since evaluation might happen less frequently, you might want to note these points specifically\n",
    "epochs = range(1, len(eval_losses) + 1)\n",
    "plt.plot(epochs, eval_losses, 'bo-', label='Evaluation Loss')\n",
    "\n",
    "plt.title('Training and Evaluation Loss')\n",
    "plt.xlabel('Step' if len(train_losses) > len(epochs) else 'Epoch')\n",
    "plt.ylabel('Loss')\n",
    "plt.legend()\n",
    "plt.show()\n"
   ]
  },
  {
   "cell_type": "code",
   "execution_count": 18,
   "metadata": {},
   "outputs": [],
   "source": [
    "question = \"What causes the creation of new routes for drug trafficking?\"\n",
    "context = \"More than 35 million people worldwide are currently addicted to drugs. COVID-19 has created new routes for drug trafficking that increase the risk of drug addiction, making it vital to address this problem. The aim is to effectively protect the physical health of PWUD and prevent the combination of COVID-19 and the physiological and psychological effects of drugs from affecting relapse behaviour.\""
   ]
  },
  {
   "cell_type": "code",
   "execution_count": 19,
   "metadata": {},
   "outputs": [
    {
     "data": {
      "text/plain": [
       "{'score': 0.0004123409162275493,\n",
       " 'start': 124,\n",
       " 'end': 192,\n",
       " 'answer': 'that increase the risk of drug addiction, making it vital to address'}"
      ]
     },
     "execution_count": 19,
     "metadata": {},
     "output_type": "execute_result"
    }
   ],
   "source": [
    "from transformers import pipeline\n",
    "\n",
    "question_answerer = pipeline(\"question-answering\", model=model, tokenizer=tokenizer)\n",
    "question_answerer(question=question, context=context)"
   ]
  }
 ],
 "metadata": {
  "kernelspec": {
   "display_name": "Python 3",
   "language": "python",
   "name": "python3"
  },
  "language_info": {
   "codemirror_mode": {
    "name": "ipython",
    "version": 3
   },
   "file_extension": ".py",
   "mimetype": "text/x-python",
   "name": "python",
   "nbconvert_exporter": "python",
   "pygments_lexer": "ipython3",
   "version": "undefined.undefined.undefined"
  }
 },
 "nbformat": 4,
 "nbformat_minor": 2
}
